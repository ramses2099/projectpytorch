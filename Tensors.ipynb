{
  "nbformat": 4,
  "nbformat_minor": 0,
  "metadata": {
    "colab": {
      "provenance": [],
      "authorship_tag": "ABX9TyOckELhl5Q41Pev72kmjAnJ",
      "include_colab_link": true
    },
    "kernelspec": {
      "name": "python3",
      "display_name": "Python 3"
    },
    "language_info": {
      "name": "python"
    }
  },
  "cells": [
    {
      "cell_type": "markdown",
      "metadata": {
        "id": "view-in-github",
        "colab_type": "text"
      },
      "source": [
        "<a href=\"https://colab.research.google.com/github/ramses2099/projectpytorch/blob/main/Tensors.ipynb\" target=\"_parent\"><img src=\"https://colab.research.google.com/assets/colab-badge.svg\" alt=\"Open In Colab\"/></a>"
      ]
    },
    {
      "cell_type": "markdown",
      "source": [
        "# **TENSORS**\n",
        "\n",
        "\n",
        "*   A torch. Tensor is a multi-dimensional matrix elements of a single data type.\n",
        "*   Similar To Numpy Arrays, but full of fun that make them work better on GPUs (vs regular CPU's).\n",
        "*   Default data type of float32.\n",
        "*   More suitable for deep learning than a numpy array.\n",
        "\n",
        "\n",
        "\n"
      ],
      "metadata": {
        "id": "ozH0MIdP9lkq"
      }
    },
    {
      "cell_type": "code",
      "execution_count": 3,
      "metadata": {
        "id": "S1CGpyvn70WW"
      },
      "outputs": [],
      "source": [
        "import torch\n",
        "import numpy as np"
      ]
    },
    {
      "cell_type": "markdown",
      "source": [
        "# **LISTS**"
      ],
      "metadata": {
        "id": "7zKDepzP_xTx"
      }
    },
    {
      "cell_type": "code",
      "source": [
        "my_list = [[1,2,3,4,5],[6,7,8,9,10]]\n",
        "my_list"
      ],
      "metadata": {
        "colab": {
          "base_uri": "https://localhost:8080/"
        },
        "id": "uQC-E7Ld73Hq",
        "outputId": "66c572b4-451a-4627-c148-036297d994f2"
      },
      "execution_count": 5,
      "outputs": [
        {
          "output_type": "execute_result",
          "data": {
            "text/plain": [
              "[[1, 2, 3, 4, 5], [6, 7, 8, 9, 10]]"
            ]
          },
          "metadata": {},
          "execution_count": 5
        }
      ]
    },
    {
      "cell_type": "markdown",
      "source": [
        "# **NUMPY ARRAY**"
      ],
      "metadata": {
        "id": "X9V2IAYyD8gi"
      }
    },
    {
      "cell_type": "code",
      "source": [
        "np1 = np.random.rand(3,4)\n",
        "np1"
      ],
      "metadata": {
        "colab": {
          "base_uri": "https://localhost:8080/"
        },
        "id": "Sp7DxUP4DzkM",
        "outputId": "7d92da61-793e-4647-d372-57f79323ae74"
      },
      "execution_count": 6,
      "outputs": [
        {
          "output_type": "execute_result",
          "data": {
            "text/plain": [
              "array([[0.00918931, 0.59385827, 0.32599885, 0.82457644],\n",
              "       [0.83331658, 0.68142388, 0.28643396, 0.41625517],\n",
              "       [0.73610009, 0.81342266, 0.20552331, 0.69552167]])"
            ]
          },
          "metadata": {},
          "execution_count": 6
        }
      ]
    },
    {
      "cell_type": "markdown",
      "source": [
        "# **TENSORS**"
      ],
      "metadata": {
        "id": "BSpTndioMl5d"
      }
    },
    {
      "cell_type": "code",
      "source": [
        "tensor_2d = torch.rand(3,4)\n",
        "tensor_2d"
      ],
      "metadata": {
        "colab": {
          "base_uri": "https://localhost:8080/"
        },
        "id": "yjZviDuGEUuV",
        "outputId": "0b6186d7-3c49-421d-cc31-f642bd93d6c1"
      },
      "execution_count": 7,
      "outputs": [
        {
          "output_type": "execute_result",
          "data": {
            "text/plain": [
              "tensor([[0.4078, 0.6768, 0.0681, 0.8614],\n",
              "        [0.3753, 0.9702, 0.5254, 0.1222],\n",
              "        [0.8694, 0.6214, 0.4036, 0.4102]])"
            ]
          },
          "metadata": {},
          "execution_count": 7
        }
      ]
    },
    {
      "cell_type": "code",
      "source": [
        "tensor_3d= torch.rand(2,3,4)\n",
        "tensor_3d"
      ],
      "metadata": {
        "colab": {
          "base_uri": "https://localhost:8080/"
        },
        "id": "d3XuOojUM_GR",
        "outputId": "a28cff6b-e8f4-4da9-9010-d2f3ddd02033"
      },
      "execution_count": 8,
      "outputs": [
        {
          "output_type": "execute_result",
          "data": {
            "text/plain": [
              "tensor([[[0.5289, 0.3678, 0.0073, 0.0522],\n",
              "         [0.8636, 0.4291, 0.7442, 0.5750],\n",
              "         [0.3167, 0.4830, 0.6527, 0.0397]],\n",
              "\n",
              "        [[0.1257, 0.5924, 0.7063, 0.5164],\n",
              "         [0.9898, 0.4028, 0.9651, 0.9835],\n",
              "         [0.3948, 0.9619, 0.0150, 0.2494]]])"
            ]
          },
          "metadata": {},
          "execution_count": 8
        }
      ]
    },
    {
      "cell_type": "code",
      "source": [
        "# Create tensor out of numpy array\n",
        "my_tesonr = torch.from_numpy(np1)\n",
        "my_tesonr"
      ],
      "metadata": {
        "colab": {
          "base_uri": "https://localhost:8080/"
        },
        "id": "a5M-gEnaNPRd",
        "outputId": "dd42f33c-647c-48e6-b1a8-a6ab8ac3fe2d"
      },
      "execution_count": 9,
      "outputs": [
        {
          "output_type": "execute_result",
          "data": {
            "text/plain": [
              "tensor([[0.0092, 0.5939, 0.3260, 0.8246],\n",
              "        [0.8333, 0.6814, 0.2864, 0.4163],\n",
              "        [0.7361, 0.8134, 0.2055, 0.6955]], dtype=torch.float64)"
            ]
          },
          "metadata": {},
          "execution_count": 9
        }
      ]
    },
    {
      "cell_type": "code",
      "source": [],
      "metadata": {
        "id": "kVTV8cvDNauG"
      },
      "execution_count": null,
      "outputs": []
    }
  ]
}